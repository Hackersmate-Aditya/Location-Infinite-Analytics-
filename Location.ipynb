{
 "cells": [
  {
   "cell_type": "code",
   "execution_count": 1,
   "id": "92da48fc",
   "metadata": {},
   "outputs": [],
   "source": [
    "from pyspark.sql import SparkSession\n",
    "from pyspark.sql.functions import window, avg, when, lit, udf\n",
    "from pyspark.sql.types import DoubleType, TimestampType\n",
    "from math import radians, sin, cos, sqrt, atan2\n",
    "from pyspark.sql.types import StructType, StructField, StringType, DoubleType, TimestampType\n"
   ]
  },
  {
   "cell_type": "code",
   "execution_count": 2,
   "id": "c4c64e0f",
   "metadata": {},
   "outputs": [],
   "source": [
    "# Create a Spark session\n",
    "spark = SparkSession.builder \\\n",
    "    .appName(\"LocationProcessing\") \\\n",
    "    .getOrCreate()\n"
   ]
  },
  {
   "cell_type": "code",
   "execution_count": 3,
   "id": "53e6b45b",
   "metadata": {},
   "outputs": [],
   "source": [
    "\n",
    "# Define the schema for the data\n",
    "schema = StructType([\n",
    "    StructField(\"LocationIndex\", StringType()),\n",
    "    StructField(\"DeviceID\", StringType()),\n",
    "    StructField(\"Latitude\", DoubleType()),\n",
    "    StructField(\"Longitude\", DoubleType()),\n",
    "    StructField(\"Timestamp_date\", TimestampType()),\n",
    "    StructField(\"CompanyName\", StringType()),\n",
    "    StructField(\"Timestamp\", TimestampType()),\n",
    "    StructField(\"PinCode\", StringType()),\n",
    "    StructField(\"City\", StringType())\n",
    "])\n",
    "\n",
    "\n"
   ]
  },
  {
   "cell_type": "code",
   "execution_count": 4,
   "id": "37494557",
   "metadata": {},
   "outputs": [],
   "source": [
    "# Load the data\n",
    "raw_data = spark.read \\\n",
    "    .schema(schema) \\\n",
    "    .option(\"header\", \"true\") \\\n",
    "    .csv(\"C:/Users/Hp/OneDrive/Desktop/New folder/ss.csv\").limit(1000)  # Replace with the actual path"
   ]
  },
  {
   "cell_type": "code",
   "execution_count": 5,
   "id": "bc72df79",
   "metadata": {},
   "outputs": [
    {
     "name": "stdout",
     "output_type": "stream",
     "text": [
      "+---------------+--------------------+----------+----------+-------------------+--------------------+-------------------+-------+-----------+\n",
      "|  LocationIndex|            DeviceID|  Latitude| Longitude|     Timestamp_date|         CompanyName|          Timestamp|PinCode|       City|\n",
      "+---------------+--------------------+----------+----------+-------------------+--------------------+-------------------+-------+-----------+\n",
      "|89608b016c3ffff|e38ed0cf-7ce7-4e7...|   18.9721|  72.82836|2020-06-24 00:00:00| Syscon Infoway Pvt.|2020-06-24 13:02:44| 400070|Mumbai City|\n",
      "|89608b016c3ffff|928d0c85-7cf0-4c6...|18.9716658|72.8264716|2020-06-12 00:00:00|Microscan Compute...|2020-06-12 14:01:04| 400070|Mumbai City|\n",
      "+---------------+--------------------+----------+----------+-------------------+--------------------+-------------------+-------+-----------+\n",
      "only showing top 2 rows\n",
      "\n"
     ]
    }
   ],
   "source": [
    "raw_data.show(2)"
   ]
  },
  {
   "cell_type": "code",
   "execution_count": 6,
   "id": "1f4c72ed",
   "metadata": {},
   "outputs": [],
   "source": [
    "selected_columns = [\"LocationIndex\", \"DeviceID\", \"Latitude\", \"Longitude\", \"Timestamp\", \"PinCode\", \"City\"]\n",
    "filtered_data = raw_data.select(*selected_columns)\n"
   ]
  },
  {
   "cell_type": "code",
   "execution_count": 7,
   "id": "543bc3e2",
   "metadata": {},
   "outputs": [
    {
     "name": "stdout",
     "output_type": "stream",
     "text": [
      "+---------------+--------------------+----------+----------+-------------------+-------+-----------+\n",
      "|  LocationIndex|            DeviceID|  Latitude| Longitude|          Timestamp|PinCode|       City|\n",
      "+---------------+--------------------+----------+----------+-------------------+-------+-----------+\n",
      "|89608b016c3ffff|e38ed0cf-7ce7-4e7...|   18.9721|  72.82836|2020-06-24 13:02:44| 400070|Mumbai City|\n",
      "|89608b016c3ffff|928d0c85-7cf0-4c6...|18.9716658|72.8264716|2020-06-12 14:01:04| 400070|Mumbai City|\n",
      "|89608b016c3ffff|fe1cea84-51c5-480...| 18.971809| 72.826249|2020-06-25 17:47:17| 400074|Mumbai City|\n",
      "|89608b016c3ffff|998f05d3-77de-436...| 18.970652|72.8274182|2020-06-12 15:00:22| 400070|Mumbai City|\n",
      "|89608b016c3ffff|fe1cea84-51c5-480...| 18.971809| 72.826249|2020-06-25 17:47:47| 400074|Mumbai City|\n",
      "|89608b016c3ffff|b33da977-926d-4c0...| 18.971178| 72.827174|2020-06-12 17:46:25| 400070|Mumbai City|\n",
      "|89608b016c3ffff|fe1cea84-51c5-480...| 18.971809| 72.826249|2020-06-25 17:47:47| 400074|Mumbai City|\n",
      "|89608b016c3ffff|b33da977-926d-4c0...| 18.971178| 72.827174|2020-06-12 18:42:36| 400070|Mumbai City|\n",
      "|89608b016c3ffff|ba026cf2-525a-40b...|18.9712852|  72.82758|2020-06-24 06:43:14| 400070|Mumbai City|\n",
      "|89608b016c3ffff|b33da977-926d-4c0...| 18.971178| 72.827174|2020-06-12 18:42:23| 400070|Mumbai City|\n",
      "|89608b016c3ffff|ba026cf2-525a-40b...|18.9711389|72.8277313|2020-06-24 06:56:53| 400070|Mumbai City|\n",
      "|89608b016c3ffff|b33da977-926d-4c0...| 18.971178| 72.827174|2020-06-12 18:53:40| 400070|Mumbai City|\n",
      "|89608b016c3ffff|ba026cf2-525a-40b...|18.9712729| 72.827574|2020-06-24 06:37:36| 400070|Mumbai City|\n",
      "|89608b016c3ffff|b33da977-926d-4c0...| 18.971178| 72.827174|2020-06-12 18:43:49| 400070|Mumbai City|\n",
      "|89608b016c3ffff|ba026cf2-525a-40b...|18.9713598|72.8280996|2020-06-24 06:03:41| 400070|Mumbai City|\n",
      "|89608b016c3ffff|b33da977-926d-4c0...| 18.971178| 72.827174|2020-06-12 18:42:27| 400070|Mumbai City|\n",
      "|89608b016c3ffff|ba026cf2-525a-40b...|18.9712483|72.8275758|2020-06-24 06:31:55| 400070|Mumbai City|\n",
      "|89608b016c3ffff|b33da977-926d-4c0...| 18.971178| 72.827174|2020-06-12 18:43:05| 400070|Mumbai City|\n",
      "|89608b016c3ffff|ba026cf2-525a-40b...|18.9712286|72.8279026|2020-06-24 06:51:51| 400070|Mumbai City|\n",
      "|89608b016c3ffff|b33da977-926d-4c0...| 18.971178| 72.827174|2020-06-12 17:46:24| 400070|Mumbai City|\n",
      "+---------------+--------------------+----------+----------+-------------------+-------+-----------+\n",
      "only showing top 20 rows\n",
      "\n"
     ]
    }
   ],
   "source": [
    "filtered_data.show()"
   ]
  },
  {
   "cell_type": "code",
   "execution_count": 8,
   "id": "349367b1",
   "metadata": {},
   "outputs": [],
   "source": [
    "# Define the UDF to calculate Haversine distance\n",
    "def haversine(lat1, lon1, lat2, lon2):\n",
    "    # Convert latitude and longitude from degrees to radians\n",
    "    lat1, lon1, lat2, lon2 = map(radians, [lat1, lon1, lat2, lon2])\n",
    "    \n",
    "    # Haversine formula implementation\n",
    "    dlat = lat2 - lat1\n",
    "    dlon = lon2 - lon1\n",
    "    a = sin(dlat / 2) ** 2 + cos(lat1) * cos(lat2) * sin(dlon / 2) ** 2\n",
    "    c = 2 * atan2(sqrt(a), sqrt(1 - a))\n",
    "    \n",
    "    # Earth's radius in meters (mean value)\n",
    "    radius_of_earth = 6371000  # meters\n",
    "    \n",
    "    # Calculate the distance in meters\n",
    "    distance = radius_of_earth * c\n",
    "    \n",
    "    return distance\n",
    "\n",
    "haversine_udf = udf(haversine, DoubleType())\n"
   ]
  },
  {
   "cell_type": "code",
   "execution_count": 9,
   "id": "bf21ebcb",
   "metadata": {},
   "outputs": [],
   "source": [
    "haversine_udf = udf(haversine, DoubleType())\n",
    "\n",
    "# Define the radius in meters\n",
    "radius = 200\n",
    "\n",
    "# Define the time window duration\n",
    "time_window_duration = \"10 minutes\"\n",
    "\n"
   ]
  },
  {
   "cell_type": "code",
   "execution_count": 10,
   "id": "33ae6c2c",
   "metadata": {},
   "outputs": [],
   "source": [
    "# Calculate the average number of devices within the radius for each time window\n",
    "result = filtered_data \\\n",
    "    .withColumn(\"TimeWindow\", window(\"Timestamp\", time_window_duration)) \\\n",
    "    .groupBy(\"TimeWindow\", \"Latitude\", \"Longitude\") \\\n",
    "    .agg(avg(when(haversine_udf(\"Latitude\", \"Longitude\", filtered_data[\"Latitude\"], filtered_data[\"Longitude\"]) <= radius, 1).otherwise(0)).alias(\"AvgDevicesInRadius\"))\n",
    "\n"
   ]
  },
  {
   "cell_type": "code",
   "execution_count": null,
   "id": "da6106cb",
   "metadata": {},
   "outputs": [],
   "source": [
    "# Save the results to a CSV file\n",
    "result.write \\\n",
    "    .mode(\"overwrite\") \\\n",
    "    .csv(\"C:/Users/Hp/OneDrive/Desktop/New folder/result.csv\")  # Replace with the desired path\n",
    "\n",
    "# Stop the Spark session\n",
    "spark.stop()"
   ]
  }
 ],
 "metadata": {
  "kernelspec": {
   "display_name": "Python 3 (ipykernel)",
   "language": "python",
   "name": "python3"
  },
  "language_info": {
   "codemirror_mode": {
    "name": "ipython",
    "version": 3
   },
   "file_extension": ".py",
   "mimetype": "text/x-python",
   "name": "python",
   "nbconvert_exporter": "python",
   "pygments_lexer": "ipython3",
   "version": "3.11.4"
  }
 },
 "nbformat": 4,
 "nbformat_minor": 5
}
